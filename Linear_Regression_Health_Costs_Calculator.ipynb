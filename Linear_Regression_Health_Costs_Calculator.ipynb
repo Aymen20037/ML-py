{
 "cells": [
  {
   "cell_type": "code",
   "execution_count": null,
   "metadata": {},
   "outputs": [],
   "source": [
    "import pandas as pd\n",
    "import numpy as np\n",
    "from sklearn.model_selection import train_test_split\n",
    "from sklearn.preprocessing import OneHotEncoder\n",
    "from sklearn.compose import ColumnTransformer\n",
    "from sklearn.pipeline import Pipeline\n",
    "from sklearn.ensemble import RandomForestRegressor\n",
    "from sklearn.metrics import mean_absolute_error\n",
    "import matplotlib.pyplot as plt\n",
    "\n",
    "# Si tu dois charger les données manuellement, par exemple :\n",
    "# data = pd.read_csv(\"insurance.csv\")\n"
   ]
  },
  {
   "cell_type": "code",
   "execution_count": null,
   "metadata": {},
   "outputs": [],
   "source": [
    "# Séparation des variables explicatives et de la cible\n",
    "X = data.drop('expenses', axis=1)\n",
    "y = data['expenses']\n",
    "\n",
    "# Division du dataset en train (80%) et test (20%)\n",
    "train_dataset, test_dataset, train_labels, test_labels = train_test_split(\n",
    "    X, y, test_size=0.2, random_state=42\n",
    ")\n"
   ]
  },
  {
   "cell_type": "code",
   "execution_count": null,
   "metadata": {},
   "outputs": [],
   "source": [
    "# Colonnes catégorielles à encoder\n",
    "categorical_features = ['sex', 'smoker', 'region']\n",
    "\n",
    "# Transformation avec OneHotEncoder (gestion des valeurs inconnues)\n",
    "categorical_transformer = OneHotEncoder(handle_unknown='ignore')\n",
    "\n",
    "# Préprocesseur qui applique l'encodage aux colonnes catégorielles\n",
    "preprocessor = ColumnTransformer(\n",
    "    transformers=[\n",
    "        ('cat', categorical_transformer, categorical_features)\n",
    "    ],\n",
    "    remainder='passthrough'  # Laisse les autres colonnes telles quelles\n",
    ")\n"
   ]
  },
  {
   "cell_type": "code",
   "execution_count": null,
   "metadata": {},
   "outputs": [],
   "source": [
    "from sklearn.ensemble import RandomForestRegressor\n",
    "\n",
    "model = Pipeline(steps=[\n",
    "    ('preprocessor', preprocessor),\n",
    "    ('regressor', RandomForestRegressor(n_estimators=100, random_state=42))\n",
    "])\n"
   ]
  },
  {
   "cell_type": "code",
   "execution_count": null,
   "metadata": {},
   "outputs": [],
   "source": [
    "model.fit(train_dataset, train_labels)\n"
   ]
  },
  {
   "cell_type": "code",
   "execution_count": null,
   "metadata": {},
   "outputs": [],
   "source": [
    "# Prédictions sur les données test\n",
    "predictions = model.predict(test_dataset)\n",
    "\n",
    "# Calcul de l'erreur absolue moyenne (MAE)\n",
    "mae = mean_absolute_error(test_labels, predictions)\n",
    "print(f\"Mean Absolute Error: ${mae:.2f}\")\n"
   ]
  },
  {
   "cell_type": "code",
   "execution_count": null,
   "metadata": {},
   "outputs": [],
   "source": [
    "plt.figure(figsize=(10,6))\n",
    "plt.scatter(test_labels, predictions, alpha=0.5)\n",
    "plt.plot([0, max(test_labels)], [0, max(test_labels)], color='red', linestyle='--')\n",
    "plt.xlabel(\"Dépenses réelles\")\n",
    "plt.ylabel(\"Dépenses prédites\")\n",
    "plt.title(\"Prédictions vs Valeurs réelles\")\n",
    "plt.grid(True)\n",
    "plt.show()\n"
   ]
  }
 ],
 "metadata": {
  "language_info": {
   "name": "python"
  }
 },
 "nbformat": 4,
 "nbformat_minor": 2
}
